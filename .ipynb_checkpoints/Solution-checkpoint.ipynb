{
 "cells": [
  {
   "cell_type": "markdown",
   "metadata": {},
   "source": [
    "## Installing Dependencies"
   ]
  },
  {
   "cell_type": "markdown",
   "metadata": {},
   "source": [
    "#### 1. Install ffmpeg\n",
    "    https://www.wikihow.com/Install-FFmpeg-on-Windows\n",
    "#### 2. Install libraries"
   ]
  },
  {
   "cell_type": "code",
   "execution_count": 1,
   "metadata": {},
   "outputs": [],
   "source": [
    "#! pip install imutils\n",
    "#! pip install opencv-python\n",
    "#! pip install tqdm"
   ]
  },
  {
   "cell_type": "markdown",
   "metadata": {},
   "source": [
    "### Import Modules"
   ]
  },
  {
   "cell_type": "code",
   "execution_count": 2,
   "metadata": {},
   "outputs": [
    {
     "name": "stderr",
     "output_type": "stream",
     "text": [
      "<frozen importlib._bootstrap>:219: RuntimeWarning: numpy.ufunc size changed, may indicate binary incompatibility. Expected 192 from C header, got 216 from PyObject\n"
     ]
    }
   ],
   "source": [
    "import os,sys,subprocess,re,math\n",
    "from subprocess import check_call,PIPE,Popen\n",
    "import shlex\n",
    "from tqdm import tqdm\n",
    "import cv2\n",
    "import pandas as pd\n",
    "from imutils.object_detection import non_max_suppression\n",
    "import numpy as np\n",
    "import time\n",
    "from sklearn.cluster import KMeans"
   ]
  },
  {
   "cell_type": "markdown",
   "metadata": {},
   "source": [
    "### Importing the pre-trained haarcascade files using OpenCV "
   ]
  },
  {
   "cell_type": "code",
   "execution_count": 3,
   "metadata": {},
   "outputs": [],
   "source": [
    "haar_upper_body_cascade = cv2.CascadeClassifier(\"models/haarcascade_upperbody.xml\")\n",
    "\n",
    "haar_full_body_cascade = cv2.CascadeClassifier(\"models/haarcascade_fullbody.xml\")\n",
    "\n",
    "haar_face_cascade = cv2.CascadeClassifier(\"models/haarcascade_frontalface_alt.xml\")\n",
    "\n",
    "lbm_face_cascade = cv2.CascadeClassifier(\"models/lbpcascade_frontalface.xml\")\n",
    "\n",
    "haar_hand_cascade = cv2.CascadeClassifier(\"models/hand.xml\")\n",
    "\n",
    "haar_lowerbody_cascade = cv2.CascadeClassifier(\"models/haarcascade_lowerbody.xml\")\n",
    "\n",
    "text_detection_model = \"models/frozen_east_text_detection.pb\""
   ]
  },
  {
   "cell_type": "code",
   "execution_count": null,
   "metadata": {},
   "outputs": [],
   "source": []
  },
  {
   "cell_type": "code",
   "execution_count": null,
   "metadata": {},
   "outputs": [],
   "source": []
  },
  {
   "cell_type": "code",
   "execution_count": null,
   "metadata": {},
   "outputs": [],
   "source": []
  },
  {
   "cell_type": "code",
   "execution_count": null,
   "metadata": {},
   "outputs": [],
   "source": []
  },
  {
   "cell_type": "code",
   "execution_count": null,
   "metadata": {},
   "outputs": [],
   "source": []
  },
  {
   "cell_type": "code",
   "execution_count": null,
   "metadata": {},
   "outputs": [],
   "source": []
  },
  {
   "cell_type": "code",
   "execution_count": null,
   "metadata": {},
   "outputs": [],
   "source": []
  }
 ],
 "metadata": {
  "kernelspec": {
   "display_name": "Python 3",
   "language": "python",
   "name": "python3"
  },
  "language_info": {
   "codemirror_mode": {
    "name": "ipython",
    "version": 3
   },
   "file_extension": ".py",
   "mimetype": "text/x-python",
   "name": "python",
   "nbconvert_exporter": "python",
   "pygments_lexer": "ipython3",
   "version": "3.8.3"
  }
 },
 "nbformat": 4,
 "nbformat_minor": 4
}
