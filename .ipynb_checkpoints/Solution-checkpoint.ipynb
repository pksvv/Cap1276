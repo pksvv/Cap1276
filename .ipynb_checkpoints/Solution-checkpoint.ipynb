{
 "cells": [
  {
   "cell_type": "markdown",
   "metadata": {},
   "source": [
    "## Installing Dependencies"
   ]
  },
  {
   "cell_type": "markdown",
   "metadata": {},
   "source": [
    "#### 1. Install ffmpeg\n",
    "    https://www.wikihow.com/Install-FFmpeg-on-Windows\n",
    "#### 2. Install libraries"
   ]
  },
  {
   "cell_type": "code",
   "execution_count": 1,
   "metadata": {},
   "outputs": [],
   "source": [
    "#! pip install imutils\n",
    "#! pip install opencv-python\n",
    "#! pip install tqdm"
   ]
  },
  {
   "cell_type": "markdown",
   "metadata": {},
   "source": [
    "### Import Modules"
   ]
  },
  {
   "cell_type": "code",
   "execution_count": 2,
   "metadata": {},
   "outputs": [
    {
     "name": "stderr",
     "output_type": "stream",
     "text": [
      "<frozen importlib._bootstrap>:219: RuntimeWarning: numpy.ufunc size changed, may indicate binary incompatibility. Expected 192 from C header, got 216 from PyObject\n"
     ]
    }
   ],
   "source": [
    "import os,sys,subprocess,re,math\n",
    "from subprocess import check_call,PIPE,Popen\n",
    "import shlex\n",
    "from tqdm import tqdm\n",
    "import cv2\n",
    "import pandas as pd\n",
    "from imutils.object_detection import non_max_suppression\n",
    "import numpy as np\n",
    "import time\n",
    "from sklearn.cluster import KMeans"
   ]
  },
  {
   "cell_type": "markdown",
   "metadata": {},
   "source": [
    "### Importing the pre-trained haarcascade files using OpenCV "
   ]
  },
  {
   "cell_type": "code",
   "execution_count": 3,
   "metadata": {},
   "outputs": [],
   "source": [
    "haar_upper_body_cascade = cv2.CascadeClassifier(\"models/haarcascade_upperbody.xml\")\n",
    "\n",
    "haar_full_body_cascade = cv2.CascadeClassifier(\"models/haarcascade_fullbody.xml\")\n",
    "\n",
    "haar_face_cascade = cv2.CascadeClassifier(\"models/haarcascade_frontalface_alt.xml\")\n",
    "\n",
    "lbm_face_cascade = cv2.CascadeClassifier(\"models/lbpcascade_frontalface.xml\")\n",
    "\n",
    "haar_hand_cascade = cv2.CascadeClassifier(\"models/hand.xml\")\n",
    "\n",
    "haar_lowerbody_cascade = cv2.CascadeClassifier(\"models/haarcascade_lowerbody.xml\")\n",
    "\n",
    "text_detection_model = \"models/frozen_east_text_detection.pb\""
   ]
  },
  {
   "cell_type": "code",
   "execution_count": 4,
   "metadata": {},
   "outputs": [],
   "source": [
    "DATA_FOLDER = \"Dataset\"\n",
    "SEGMENT_OUTPUT = 'segments'\n",
    "OUTPUT_FOLDER = 'results'"
   ]
  },
  {
   "cell_type": "markdown",
   "metadata": {},
   "source": [
    "### Function : get_video_frame_types\n",
    "##### Purpose\n",
    "\n",
    "This function is used to get what is the frame we're getting in video segments, P-frame or I-Frame."
   ]
  },
  {
   "cell_type": "code",
   "execution_count": 5,
   "metadata": {},
   "outputs": [],
   "source": [
    "def get_video_frame_types(filename):\n",
    "    cmd = 'ffprobe -v error -show_entries frame=pict_type -of default=noprint_wrappers=1'.split()\n",
    "    out = subprocess.check_output(cmd + [filename]).decode()\n",
    "    frame_types = out.replace('pict_type=', '').split()\n",
    "    return zip(range(len(frame_types)), frame_types)"
   ]
  },
  {
   "cell_type": "markdown",
   "metadata": {},
   "source": [
    "### Function : get_video_length\n",
    "##### Purpose\n",
    "\n",
    "This function is used to get video length in seconds."
   ]
  },
  {
   "cell_type": "code",
   "execution_count": 6,
   "metadata": {},
   "outputs": [],
   "source": [
    "def get_video_length(video_fn):\n",
    "    res = subprocess.run([\"ffprobe\", \"-v\", \"error\", \"-show_entries\",\n",
    "                             \"format=duration\", \"-of\",\n",
    "                             \"default=noprint_wrappers=1:nokey=1\", video_fn],\n",
    "                            stdout=subprocess.PIPE,\n",
    "                            stderr=subprocess.STDOUT)\n",
    "    return float(res.stdout)"
   ]
  },
  {
   "cell_type": "code",
   "execution_count": 7,
   "metadata": {},
   "outputs": [
    {
     "data": {
      "text/plain": [
       "'/Users/vipul/Documents/Training/27JunCapstone/Capstone Project 1'"
      ]
     },
     "execution_count": 7,
     "metadata": {},
     "output_type": "execute_result"
    }
   ],
   "source": [
    "pwd"
   ]
  },
  {
   "cell_type": "code",
   "execution_count": 8,
   "metadata": {},
   "outputs": [
    {
     "data": {
      "text/plain": [
       "204.961667"
      ]
     },
     "execution_count": 8,
     "metadata": {},
     "output_type": "execute_result"
    }
   ],
   "source": [
    "get_video_length('Dataset/nptel_ml/ML.mp4')"
   ]
  },
  {
   "cell_type": "markdown",
   "metadata": {},
   "source": [
    "### Function : get_video_metadata\n",
    "##### Purpose\n",
    "\n",
    "This function is used to split the data into number of segments divided by seconds."
   ]
  },
  {
   "cell_type": "code",
   "execution_count": 9,
   "metadata": {},
   "outputs": [],
   "source": [
    "re_metadata = re.compile('Duration: (\\d{2}):(\\d{2}):(\\d{2})\\.\\d+,.*\\n.* (\\d+(\\.\\d+)?) fps')\n",
    "\n",
    "\n",
    "def get_video_metadata(video_fn):\n",
    "    p1 = Popen([\"ffmpeg\", \"-hide_banner\", \"-i\", video_fn], stderr=PIPE, universal_newlines=True)\n",
    "    output = p1.communicate()[1]\n",
    "    matches = re_metadata.search(output)\n",
    "    if matches:\n",
    "        video_length = int(matches.group(1)) * 3600 + int(matches.group(2)) * 60 + int(matches.group(3))\n",
    "        video_fps = float(matches.group(4))\n",
    "    else:\n",
    "        raise Exception(\"Can't parse required video metadata\")\n",
    "    return video_length, video_fps"
   ]
  },
  {
   "cell_type": "code",
   "execution_count": 12,
   "metadata": {},
   "outputs": [],
   "source": [
    "def split_video_in_segment(video_fn, num, out_path, by='size'):\n",
    "    assert num > 0\n",
    "    assert by in ['size', 'count']\n",
    "    split_video_size = num if by == 'size' else None\n",
    "    split_video_count = num if by == 'count' else None\n",
    "    # parsing meta-data\n",
    "    video_length, video_fps = get_video_metadata(video_fn)\n",
    "\n",
    "    # calculate the video video split count\n",
    "    if split_video_size:\n",
    "        split_video_count = math.ceil(video_length / split_video_size)\n",
    "        if split_video_count == 1:\n",
    "            raise Exception(\"Too small split size! Please increase the target split size!!\")\n",
    "    else: # split video count\n",
    "        split_video_size = round(video_length / split_video_count)\n",
    "    \n",
    "    # For windows\n",
    "    #pth, ext = video_fn.rsplit(\".\", 1)\n",
    "    #print(\"pth: {},ext: {}\".format(pth,ext))\n",
    "    #temp_pth = pth.rsplit(\"\\\\\",1)\n",
    "    #print(\"temp_pth: {}\".format(temp_pth))\n",
    "    #folder_name = temp_pth[0].rsplit(\"\\\\\",1)\n",
    "    #print(\"folder_name: {}\".format(folder_name))\n",
    "    #pth = out_path + os.sep + folder_name[1] + os.sep + temp_pth[1]\n",
    "    #print(\"updated path: {},ext: {}\".format(pth,ext))\n",
    "    \n",
    "    # For Linux Machines\n",
    "    pth, ext = video_fn.rsplit(\".\", 1)\n",
    "    temp_pth = pth.rsplit(\"/\",1)\n",
    "    folder_name = temp_pth[0].rsplit(\"/\",1)\n",
    "    pth = out_path + os.sep + folder_name[1] + os.sep + temp_pth[1]\n",
    "    #cmd = 'ffmpeg -hide_banner -loglevel panic -i \"{}\" -c copy -map 0 -segment_time {} -reset_timestamps 1 -g {} -sc_threshold 0 -force_key_frames \"expr:gte(t,n_forced*{})\" -f segment -y \"{}-%d.{}\"'.format(video_fn, split_video_size, round(split_video_size*video_fps), split_video_size, pth, ext)\n",
    "    cmd = 'ffmpeg -i \"{}\" -c copy -map 0 -f segment -segment_time 60 -reset_timestamps 1 -y \"{}-%d.{}\"'.format(video_fn, pth, ext)\n",
    "    check_call(shlex.split(cmd), universal_newlines=True)\n",
    "\n",
    "    # returning the list of output (index start from 0)\n",
    "    return ['{}-{}.{}'.format(pth, i, ext) for i in range(split_video_count)]"
   ]
  },
  {
   "cell_type": "markdown",
   "metadata": {},
   "source": [
    "## Task 1 : Video Segmentation"
   ]
  },
  {
   "cell_type": "markdown",
   "metadata": {},
   "source": [
    "### A loop that will iterate over the folders and the videos inside it, call the split function, and the split will be saved in \"segments\" folder."
   ]
  },
  {
   "cell_type": "code",
   "execution_count": null,
   "metadata": {},
   "outputs": [],
   "source": []
  },
  {
   "cell_type": "code",
   "execution_count": null,
   "metadata": {},
   "outputs": [],
   "source": []
  },
  {
   "cell_type": "code",
   "execution_count": null,
   "metadata": {},
   "outputs": [],
   "source": []
  },
  {
   "cell_type": "code",
   "execution_count": null,
   "metadata": {},
   "outputs": [],
   "source": []
  },
  {
   "cell_type": "code",
   "execution_count": null,
   "metadata": {},
   "outputs": [],
   "source": []
  },
  {
   "cell_type": "code",
   "execution_count": null,
   "metadata": {},
   "outputs": [],
   "source": []
  }
 ],
 "metadata": {
  "kernelspec": {
   "display_name": "Python 3",
   "language": "python",
   "name": "python3"
  },
  "language_info": {
   "codemirror_mode": {
    "name": "ipython",
    "version": 3
   },
   "file_extension": ".py",
   "mimetype": "text/x-python",
   "name": "python",
   "nbconvert_exporter": "python",
   "pygments_lexer": "ipython3",
   "version": "3.8.3"
  }
 },
 "nbformat": 4,
 "nbformat_minor": 4
}
